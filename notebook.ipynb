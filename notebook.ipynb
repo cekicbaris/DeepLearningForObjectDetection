{
 "cells": [
  {
   "cell_type": "code",
   "execution_count": null,
   "metadata": {},
   "outputs": [],
   "source": [
    "import pandas as pd\n",
    "import seaborn as sns\n",
    "import matplotlib.pyplot as plt\n",
    "import numpy as np\n",
    "%matplotlib inline"
   ]
  },
  {
   "cell_type": "markdown",
   "metadata": {},
   "source": [
    "# YOLO Family Experiment Run ( Dry Run)\n",
    "This experiment is for smoketest and use only 10 images from COCO validation dataset"
   ]
  },
  {
   "cell_type": "code",
   "execution_count": null,
   "metadata": {},
   "outputs": [],
   "source": [
    "from experiment import *\n",
    "exp = Experiment(name=\"Simple_YOLO_Dry_Run\", dry_run=True)\n",
    "\n",
    "yolo_v5s = YOLO(version='V5S')\n",
    "\n",
    "exp.add_model(yolo_v5s)\n",
    "\n",
    "exp.run_experiment()\n",
    "df = exp.evaluate_results()\n",
    "\n",
    "%matplotlib inline\n",
    "exp.plot_results()"
   ]
  },
  {
   "cell_type": "markdown",
   "metadata": {},
   "source": [
    "# All Models ( Dry Run)\n",
    "This experiment is for smoketest and use only 10 images from COCO validation dataset"
   ]
  },
  {
   "cell_type": "code",
   "execution_count": null,
   "metadata": {},
   "outputs": [],
   "source": [
    "from experiment import *\n",
    "exp = Experiment(name=\"All_Models_Dry_Run\", dry_run=True)\n",
    "\n",
    "yolo_v3 = YOLO(version='V3')\n",
    "yolo_v5s = YOLO(version='V5S')\n",
    "yolo_v5x = YOLO(version='V5X')\n",
    "faster_rcnn = FasterRCNN()\n",
    "mask_rcnn = MaskRCNN()\n",
    "retinanet = RetinaNet()\n",
    "ssd = SSD()\n",
    "\n",
    "exp.add_model(yolo_v3) \n",
    "exp.add_model(yolo_v5s)\n",
    "exp.add_model(yolo_v5x) \n",
    "exp.add_model(mask_rcnn)\n",
    "exp.add_model(faster_rcnn)\n",
    "exp.add_model(retinanet)\n",
    "exp.add_model(ssd)\n",
    "\n",
    "\n",
    "exp.run_experiment()\n",
    "exp.evaluate_results()\n",
    "exp.plot_results(scale=6000) # some models inference are higher than 5sec in CPU.\n"
   ]
  }
 ],
 "metadata": {
  "interpreter": {
   "hash": "117525975dcc84f6123c6fadc0362eb3224d2f00a8db58a84cd7d605b0060bbb"
  },
  "kernelspec": {
   "display_name": "Python 3.8.5 64-bit ('AI': conda)",
   "name": "python3"
  },
  "language_info": {
   "codemirror_mode": {
    "name": "ipython",
    "version": 3
   },
   "file_extension": ".py",
   "mimetype": "text/x-python",
   "name": "python",
   "nbconvert_exporter": "python",
   "pygments_lexer": "ipython3",
   "version": "3.8.5"
  },
  "orig_nbformat": 4
 },
 "nbformat": 4,
 "nbformat_minor": 2
}
