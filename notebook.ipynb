{
 "cells": [
  {
   "cell_type": "code",
   "execution_count": 1,
   "source": [
    "import pandas as pd\n",
    "import seaborn as sns\n",
    "import matplotlib.pyplot as plt\n",
    "import numpy as np\n",
    "%matplotlib inline"
   ],
   "outputs": [],
   "metadata": {}
  },
  {
   "cell_type": "markdown",
   "source": [
    "# YOLO Family Experiment Run ( Dry Run)\n",
    "This experiment is for smoketest and use only 10 images from COCO validation dataset"
   ],
   "metadata": {}
  },
  {
   "cell_type": "code",
   "execution_count": 4,
   "source": [
    "from experiment import *\n",
    "exp = Experiment(name=\"Simple_YOLO_Dry_Run\", dry_run=True)\n",
    "\n",
    "yolo_v5s = YOLO(version='V5S')\n",
    "\n",
    "exp.add_model(yolo_v5s)\n",
    "\n",
    "exp.run_experiment()\n",
    "df = exp.evaluate_results()\n",
    "\n",
    "%matplotlib inline\n",
    "exp.plot_results()"
   ],
   "outputs": [
    {
     "output_type": "stream",
     "name": "stderr",
     "text": [
      "Using cache found in /Users/bariscekic/.cache/torch/hub/ultralytics_yolov5_master\n",
      "Fusing layers... \n",
      "Model Summary: 224 layers, 7266973 parameters, 0 gradients\n",
      "Adding AutoShape... \n",
      "YOLOv3 🚀 2021-6-29 torch 1.9.0 CPU\n",
      "\n",
      "yolov5s:\t\t378.9398670196533\n",
      "---- Elapsed time : \t0 - 0.38793087005615234\n",
      "yolov5s:\t\t512.3348236083984\n",
      "---- Elapsed time : \t1 - 0.9097180366516113\n",
      "yolov5s:\t\t440.7978057861328\n",
      "---- Elapsed time : \t2 - 1.356752872467041\n",
      "yolov5s:\t\t406.53276443481445\n",
      "---- Elapsed time : \t3 - 1.769540786743164\n",
      "yolov5s:\t\t379.1329860687256\n",
      "---- Elapsed time : \t4 - 2.1567108631134033\n",
      "yolov5s:\t\t355.89027404785156\n",
      "---- Elapsed time : \t5 - 2.5376358032226562\n",
      "yolov5s:\t\t361.98902130126953\n",
      "---- Elapsed time : \t6 - 2.9056198596954346\n",
      "yolov5s:\t\t606.6699028015137\n",
      "---- Elapsed time : \t7 - 3.5226449966430664\n",
      "yolov5s:\t\t401.26991271972656\n",
      "---- Elapsed time : \t8 - 3.9313957691192627\n",
      "yolov5s:\t\t445.2369213104248\n",
      "---- Elapsed time : \t9 - 4.3862669467926025\n"
     ]
    },
    {
     "output_type": "stream",
     "name": "stdout",
     "text": [
      "ModelName : \t yolov5s_________________________________________\n",
      "loading annotations into memory...\n",
      "Done (t=0.46s)\n",
      "creating index...\n",
      "index created!\n",
      "Loading and preparing results...\n",
      "DONE (t=0.00s)\n",
      "creating index...\n",
      "index created!\n",
      "Running per image evaluation...\n",
      "Evaluate annotation type *bbox*\n",
      "DONE (t=0.02s).\n",
      "Accumulating evaluation results...\n",
      "DONE (t=0.06s).\n",
      " Average Precision  (AP) @[ IoU=0.50:0.95 | area=   all | maxDets=100 ] = 0.426\n",
      " Average Precision  (AP) @[ IoU=0.50      | area=   all | maxDets=100 ] = 0.537\n",
      " Average Precision  (AP) @[ IoU=0.75      | area=   all | maxDets=100 ] = 0.504\n",
      " Average Precision  (AP) @[ IoU=0.50:0.95 | area= small | maxDets=100 ] = 0.229\n",
      " Average Precision  (AP) @[ IoU=0.50:0.95 | area=medium | maxDets=100 ] = 0.468\n",
      " Average Precision  (AP) @[ IoU=0.50:0.95 | area= large | maxDets=100 ] = 0.777\n",
      " Average Recall     (AR) @[ IoU=0.50:0.95 | area=   all | maxDets=  1 ] = 0.339\n",
      " Average Recall     (AR) @[ IoU=0.50:0.95 | area=   all | maxDets= 10 ] = 0.428\n",
      " Average Recall     (AR) @[ IoU=0.50:0.95 | area=   all | maxDets=100 ] = 0.429\n",
      " Average Recall     (AR) @[ IoU=0.50:0.95 | area= small | maxDets=100 ] = 0.240\n",
      " Average Recall     (AR) @[ IoU=0.50:0.95 | area=medium | maxDets=100 ] = 0.472\n",
      " Average Recall     (AR) @[ IoU=0.50:0.95 | area= large | maxDets=100 ] = 0.778\n"
     ]
    },
    {
     "output_type": "display_data",
     "data": {
      "image/png": "[encoded data removed]",
      "text/plain": [
       "<Figure size 434.25x360 with 1 Axes>"
      ]
     },
     "metadata": {
      "needs_background": "light"
     }
    }
   ],
   "metadata": {}
  },
  {
   "cell_type": "markdown",
   "source": [
    "# All Models ( Dry Run)\n",
    "This experiment is for smoketest and use only 10 images from COCO validation dataset"
   ],
   "metadata": {}
  },
  {
   "cell_type": "code",
   "execution_count": null,
   "source": [
    "from experiment import *\n",
    "exp = Experiment(name=\"All_Models_Dry_Run\", dry_run=True)\n",
    "\n",
    "yolo_v3 = YOLO(version='V3')\n",
    "yolo_v5s = YOLO(version='V5S')\n",
    "yolo_v5x = YOLO(version='V5X')\n",
    "faster_rcnn = FasterRCNN()\n",
    "mask_rcnn = MaskRCNN()\n",
    "retinanet = RetinaNet()\n",
    "ssd = SSD()\n",
    "\n",
    "exp.add_model(yolo_v3) \n",
    "exp.add_model(yolo_v5s)\n",
    "exp.add_model(yolo_v5x) \n",
    "exp.add_model(mask_rcnn)\n",
    "exp.add_model(faster_rcnn)\n",
    "exp.add_model(retinanet)\n",
    "exp.add_model(ssd)\n",
    "\n",
    "\n",
    "exp.run_experiment()\n",
    "exp.evaluate_results()\n",
    "exp.plot_results(scale=6000) # some models inference are higher than 5sec in CPU.\n"
   ],
   "outputs": [],
   "metadata": {}
  }
 ],
 "metadata": {
  "orig_nbformat": 4,
  "language_info": {
   "name": "python",
   "version": "3.8.5",
   "mimetype": "text/x-python",
   "codemirror_mode": {
    "name": "ipython",
    "version": 3
   },
   "pygments_lexer": "ipython3",
   "nbconvert_exporter": "python",
   "file_extension": ".py"
  },
  "kernelspec": {
   "name": "python3",
   "display_name": "Python 3.8.5 64-bit ('AI': conda)"
  },
  "interpreter": {
   "hash": "117525975dcc84f6123c6fadc0362eb3224d2f00a8db58a84cd7d605b0060bbb"
  }
 },
 "nbformat": 4,
 "nbformat_minor": 2
}